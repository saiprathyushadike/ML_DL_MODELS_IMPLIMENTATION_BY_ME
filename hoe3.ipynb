{
  "nbformat": 4,
  "nbformat_minor": 0,
  "metadata": {
    "colab": {
      "provenance": [],
      "authorship_tag": "ABX9TyPFqcs1PgJoM8kf3UXObwCp",
      "include_colab_link": true
    },
    "kernelspec": {
      "name": "python3",
      "display_name": "Python 3"
    },
    "language_info": {
      "name": "python"
    }
  },
  "cells": [
    {
      "cell_type": "markdown",
      "metadata": {
        "id": "view-in-github",
        "colab_type": "text"
      },
      "source": [
        "<a href=\"https://colab.research.google.com/github/saiprathyushadike/ML_DL_MODELS_IMPLIMENTATION_BY_ME/blob/main/hoe3.ipynb\" target=\"_parent\"><img src=\"https://colab.research.google.com/assets/colab-badge.svg\" alt=\"Open In Colab\"/></a>"
      ]
    },
    {
      "cell_type": "markdown",
      "source": [
        "EXAMPLE - 3.1"
      ],
      "metadata": {
        "id": "yalNy-Ku7BFa"
      }
    },
    {
      "cell_type": "code",
      "execution_count": 1,
      "metadata": {
        "id": "zmSksLdytHgY"
      },
      "outputs": [],
      "source": [
        "r = 3.35\n",
        "h=4.16"
      ]
    },
    {
      "cell_type": "code",
      "source": [
        "import math\n",
        "volume = round(math.pi * pow(r, 2) * h, 3)\n",
        "volume"
      ],
      "metadata": {
        "colab": {
          "base_uri": "https://localhost:8080/"
        },
        "id": "PGXXDpWA7KPF",
        "outputId": "bf7b00db-05d7-4ffe-bfd4-1db100b16d77"
      },
      "execution_count": 2,
      "outputs": [
        {
          "output_type": "execute_result",
          "data": {
            "text/plain": [
              "146.667"
            ]
          },
          "metadata": {},
          "execution_count": 2
        }
      ]
    },
    {
      "cell_type": "code",
      "source": [
        "area = round(2 * math.pi * r**2 + 2 * math.pi * r * h, 3)"
      ],
      "metadata": {
        "id": "zNunTCk47ckh"
      },
      "execution_count": 3,
      "outputs": []
    },
    {
      "cell_type": "code",
      "source": [
        "area"
      ],
      "metadata": {
        "colab": {
          "base_uri": "https://localhost:8080/"
        },
        "id": "UfU8OARe7gG1",
        "outputId": "0cc3f42c-0de3-48d1-97a1-54dbf4a854f1"
      },
      "execution_count": 4,
      "outputs": [
        {
          "output_type": "execute_result",
          "data": {
            "text/plain": [
              "158.076"
            ]
          },
          "metadata": {},
          "execution_count": 4
        }
      ]
    },
    {
      "cell_type": "markdown",
      "source": [
        "EXAMPLE 3.2"
      ],
      "metadata": {
        "id": "4n05Fmu68Rjb"
      }
    },
    {
      "cell_type": "code",
      "source": [
        "import math\n",
        "\n",
        "for n in range(50, 56):\n",
        "  k = 4\n",
        "  print(f\"n={n}, k={k}\")\n",
        "  print(math.comb(n, k))\n",
        "\n",
        "  comb = math.factorial(n) // (math.factorial(k) * math.factorial(n-k))\n",
        "  print(comb)\n",
        "  print(\"-\" * 20)"
      ],
      "metadata": {
        "colab": {
          "base_uri": "https://localhost:8080/"
        },
        "id": "WO-N1nKJ8QBf",
        "outputId": "f5854cac-233d-48a9-e5b4-e720c13146d6"
      },
      "execution_count": 8,
      "outputs": [
        {
          "output_type": "stream",
          "name": "stdout",
          "text": [
            "n=50, k=4\n",
            "230300\n",
            "230300\n",
            "--------------------\n",
            "n=51, k=4\n",
            "249900\n",
            "249900\n",
            "--------------------\n",
            "n=52, k=4\n",
            "270725\n",
            "270725\n",
            "--------------------\n",
            "n=53, k=4\n",
            "292825\n",
            "292825\n",
            "--------------------\n",
            "n=54, k=4\n",
            "316251\n",
            "316251\n",
            "--------------------\n",
            "n=55, k=4\n",
            "341055\n",
            "341055\n",
            "--------------------\n"
          ]
        }
      ]
    },
    {
      "cell_type": "code",
      "source": [
        "for i in range(50,56):\n",
        "  r = math.comb(n,4) == math.factorial(n) // (math.factorial(4) * math.factorial(n-4))\n",
        "  print(r)"
      ],
      "metadata": {
        "colab": {
          "base_uri": "https://localhost:8080/"
        },
        "id": "zu-i9VRZ84pJ",
        "outputId": "54ac6c98-ca6e-4cbd-8e0a-358d277a6ad7"
      },
      "execution_count": 9,
      "outputs": [
        {
          "output_type": "stream",
          "name": "stdout",
          "text": [
            "True\n",
            "True\n",
            "True\n",
            "True\n",
            "True\n",
            "True\n"
          ]
        }
      ]
    },
    {
      "cell_type": "code",
      "metadata": {
        "id": "c7588522"
      },
      "source": [
        "import math\n",
        "\n",
        "def mycomb(n, k):\n",
        "  return math.factorial(n) / math.factorial(k) / math.factorial(n - k)"
      ],
      "execution_count": 13,
      "outputs": []
    },
    {
      "cell_type": "code",
      "metadata": {
        "colab": {
          "base_uri": "https://localhost:8080/"
        },
        "id": "152b574c",
        "outputId": "f760e775-0ab5-454e-9785-b0a2ac47a54e"
      },
      "source": [
        "import math\n",
        "\n",
        "for n in range(50, 56):\n",
        "    r1 = math.comb(n, 4)\n",
        "    r2 = mycomb(n, 4)\n",
        "    print(f'{r1}, {r2}, {r1 == r2}')"
      ],
      "execution_count": 12,
      "outputs": [
        {
          "output_type": "stream",
          "name": "stdout",
          "text": [
            "230300, 230300.0, True\n",
            "249900, 249900.0, True\n",
            "270725, 270725.0, True\n",
            "292825, 292825.0, True\n",
            "316251, 316251.0, True\n",
            "341055, 341055.0, True\n"
          ]
        }
      ]
    },
    {
      "cell_type": "code",
      "source": [
        "import numpy as np\n",
        "print(np.zeros(5))\n",
        "print()\n",
        "print(np.zeros((3,4)))"
      ],
      "metadata": {
        "colab": {
          "base_uri": "https://localhost:8080/"
        },
        "id": "3RM6WDAFBPpR",
        "outputId": "bae852d9-3af6-4b45-f173-ac16c15abb6e"
      },
      "execution_count": 14,
      "outputs": [
        {
          "output_type": "stream",
          "name": "stdout",
          "text": [
            "[0. 0. 0. 0. 0.]\n",
            "\n",
            "[[0. 0. 0. 0.]\n",
            " [0. 0. 0. 0.]\n",
            " [0. 0. 0. 0.]]\n"
          ]
        }
      ]
    },
    {
      "cell_type": "code",
      "source": [
        "print(np.ones((3,4,2)))"
      ],
      "metadata": {
        "colab": {
          "base_uri": "https://localhost:8080/"
        },
        "id": "aMqM1G8JCA8T",
        "outputId": "4ececced-10de-48ac-f390-a466f12b955a"
      },
      "execution_count": 16,
      "outputs": [
        {
          "output_type": "stream",
          "name": "stdout",
          "text": [
            "[[[1. 1.]\n",
            "  [1. 1.]\n",
            "  [1. 1.]\n",
            "  [1. 1.]]\n",
            "\n",
            " [[1. 1.]\n",
            "  [1. 1.]\n",
            "  [1. 1.]\n",
            "  [1. 1.]]\n",
            "\n",
            " [[1. 1.]\n",
            "  [1. 1.]\n",
            "  [1. 1.]\n",
            "  [1. 1.]]]\n"
          ]
        }
      ]
    },
    {
      "cell_type": "code",
      "source": [
        "x = [\n",
        "    [\n",
        "        [0, 1, 2, 3],\n",
        "        [4, 5, 6, 7],\n",
        "        [8, 9, 10, 11]\n",
        "    ],\n",
        "    [\n",
        "        [12, 13, 14, 15],\n",
        "        [16, 17, 18, 19],\n",
        "        [20, 21, 22, 23]\n",
        "    ]\n",
        "]\n",
        "\n",
        "print(np.array(x))"
      ],
      "metadata": {
        "colab": {
          "base_uri": "https://localhost:8080/"
        },
        "id": "Mn47nMrkCvn-",
        "outputId": "96ea28b5-6175-4062-d578-93b572e3a51f"
      },
      "execution_count": 17,
      "outputs": [
        {
          "output_type": "stream",
          "name": "stdout",
          "text": [
            "[[[ 0  1  2  3]\n",
            "  [ 4  5  6  7]\n",
            "  [ 8  9 10 11]]\n",
            "\n",
            " [[12 13 14 15]\n",
            "  [16 17 18 19]\n",
            "  [20 21 22 23]]]\n"
          ]
        }
      ]
    },
    {
      "cell_type": "markdown",
      "source": [
        "EXAMPLE 3.4"
      ],
      "metadata": {
        "id": "rzeYANE9E4FN"
      }
    },
    {
      "cell_type": "code",
      "source": [
        "\n",
        "arr = np.arange(24).reshape(2, 3, 4)\n",
        "print(arr)"
      ],
      "metadata": {
        "colab": {
          "base_uri": "https://localhost:8080/"
        },
        "id": "B0Y4xoSvDT44",
        "outputId": "a8be9820-40e5-4010-d500-9ad55bf3b47d"
      },
      "execution_count": 19,
      "outputs": [
        {
          "output_type": "stream",
          "name": "stdout",
          "text": [
            "[[[ 0  1  2  3]\n",
            "  [ 4  5  6  7]\n",
            "  [ 8  9 10 11]]\n",
            "\n",
            " [[12 13 14 15]\n",
            "  [16 17 18 19]\n",
            "  [20 21 22 23]]]\n"
          ]
        }
      ]
    },
    {
      "cell_type": "code",
      "source": [
        "flat = arr.flatten()"
      ],
      "metadata": {
        "id": "0cHBjxo3FLSl"
      },
      "execution_count": 20,
      "outputs": []
    },
    {
      "cell_type": "code",
      "source": [
        "flat"
      ],
      "metadata": {
        "colab": {
          "base_uri": "https://localhost:8080/"
        },
        "id": "rAvl6qBvF_eY",
        "outputId": "a2921666-0848-44ec-8764-96205d9e82ca"
      },
      "execution_count": 21,
      "outputs": [
        {
          "output_type": "execute_result",
          "data": {
            "text/plain": [
              "array([ 0,  1,  2,  3,  4,  5,  6,  7,  8,  9, 10, 11, 12, 13, 14, 15, 16,\n",
              "       17, 18, 19, 20, 21, 22, 23])"
            ]
          },
          "metadata": {},
          "execution_count": 21
        }
      ]
    },
    {
      "cell_type": "code",
      "source": [
        "flat1 = arr.reshape(-1)"
      ],
      "metadata": {
        "id": "eBj3z6_CGACz"
      },
      "execution_count": 22,
      "outputs": []
    },
    {
      "cell_type": "code",
      "source": [
        "flat1"
      ],
      "metadata": {
        "colab": {
          "base_uri": "https://localhost:8080/"
        },
        "id": "73hkVa6cGE9S",
        "outputId": "c4749015-bddb-411d-b0f0-fd23d62e977f"
      },
      "execution_count": 25,
      "outputs": [
        {
          "output_type": "execute_result",
          "data": {
            "text/plain": [
              "array([ 0,  1,  2,  3,  4,  5,  6,  7,  8,  9, 10, 11, 12, 13, 14, 15, 16,\n",
              "       17, 18, 19, 20, 21, 22, 23])"
            ]
          },
          "metadata": {},
          "execution_count": 25
        }
      ]
    },
    {
      "cell_type": "markdown",
      "source": [
        "EXAMPLE 3.5"
      ],
      "metadata": {
        "id": "8zwYc8PNIB_j"
      }
    },
    {
      "cell_type": "code",
      "source": [
        "x = np.arange(0,24)\n",
        "print(x)"
      ],
      "metadata": {
        "colab": {
          "base_uri": "https://localhost:8080/"
        },
        "id": "TVt4oVyCGGEq",
        "outputId": "62759069-8567-4777-be79-ffe356ec7387"
      },
      "execution_count": 26,
      "outputs": [
        {
          "output_type": "stream",
          "name": "stdout",
          "text": [
            "[ 0  1  2  3  4  5  6  7  8  9 10 11 12 13 14 15 16 17 18 19 20 21 22 23]\n"
          ]
        }
      ]
    },
    {
      "cell_type": "code",
      "source": [
        "x = x.reshape((4,-1))\n",
        "print(x)"
      ],
      "metadata": {
        "colab": {
          "base_uri": "https://localhost:8080/"
        },
        "id": "YiMZY9VqIUi1",
        "outputId": "1489edab-f7c5-45b3-f23d-4957023899f0"
      },
      "execution_count": 28,
      "outputs": [
        {
          "output_type": "stream",
          "name": "stdout",
          "text": [
            "[[ 0  1  2  3  4  5]\n",
            " [ 6  7  8  9 10 11]\n",
            " [12 13 14 15 16 17]\n",
            " [18 19 20 21 22 23]]\n"
          ]
        }
      ]
    },
    {
      "cell_type": "code",
      "source": [
        "print(x[1:3, :])"
      ],
      "metadata": {
        "colab": {
          "base_uri": "https://localhost:8080/"
        },
        "id": "14xRQa-ZIcF8",
        "outputId": "06b14493-af43-4511-8d7d-3269247f30aa"
      },
      "execution_count": 30,
      "outputs": [
        {
          "output_type": "stream",
          "name": "stdout",
          "text": [
            "[[ 6  7  8  9 10 11]\n",
            " [12 13 14 15 16 17]]\n"
          ]
        }
      ]
    },
    {
      "cell_type": "code",
      "source": [
        "print(x[:,-2:])"
      ],
      "metadata": {
        "colab": {
          "base_uri": "https://localhost:8080/"
        },
        "id": "IQR9B9xDIn6I",
        "outputId": "aec484ec-5dad-4887-fb31-53625b1c28fa"
      },
      "execution_count": 32,
      "outputs": [
        {
          "output_type": "stream",
          "name": "stdout",
          "text": [
            "[[ 4  5]\n",
            " [10 11]\n",
            " [16 17]\n",
            " [22 23]]\n"
          ]
        }
      ]
    },
    {
      "cell_type": "markdown",
      "source": [
        "EXAMPLE 3.7"
      ],
      "metadata": {
        "id": "eHfKjgr1Ll0e"
      }
    },
    {
      "cell_type": "code",
      "source": [
        "arr = np.arange(0, 47, 2).reshape(4, 6)\n",
        "print(arr)"
      ],
      "metadata": {
        "colab": {
          "base_uri": "https://localhost:8080/"
        },
        "id": "LE0sWPtnI5MG",
        "outputId": "48e1084e-af32-4a72-d037-9e7d20c9c3cc"
      },
      "execution_count": 33,
      "outputs": [
        {
          "output_type": "stream",
          "name": "stdout",
          "text": [
            "[[ 0  2  4  6  8 10]\n",
            " [12 14 16 18 20 22]\n",
            " [24 26 28 30 32 34]\n",
            " [36 38 40 42 44 46]]\n"
          ]
        }
      ]
    },
    {
      "cell_type": "code",
      "source": [
        "y = (x/5) /(x//5)"
      ],
      "metadata": {
        "colab": {
          "base_uri": "https://localhost:8080/"
        },
        "id": "WMdxVhrvLunB",
        "outputId": "7e11a65c-33e7-4c6b-f08a-59f859ce6e37"
      },
      "execution_count": 37,
      "outputs": [
        {
          "output_type": "stream",
          "name": "stderr",
          "text": [
            "/tmp/ipython-input-4030175863.py:1: RuntimeWarning: divide by zero encountered in divide\n",
            "  y = (x/5) /(x//5)\n",
            "/tmp/ipython-input-4030175863.py:1: RuntimeWarning: invalid value encountered in divide\n",
            "  y = (x/5) /(x//5)\n"
          ]
        }
      ]
    },
    {
      "cell_type": "code",
      "source": [
        "y"
      ],
      "metadata": {
        "colab": {
          "base_uri": "https://localhost:8080/"
        },
        "id": "AcvzVT4CLzBW",
        "outputId": "7d8ce6b1-87dd-4433-f4c3-53727ae10e64"
      },
      "execution_count": 38,
      "outputs": [
        {
          "output_type": "execute_result",
          "data": {
            "text/plain": [
              "array([[       nan,        inf,        inf,        inf,        inf,\n",
              "        1.        ],\n",
              "       [1.2       , 1.4       , 1.6       , 1.8       , 1.        ,\n",
              "        1.1       ],\n",
              "       [1.2       , 1.3       , 1.4       , 1.        , 1.06666667,\n",
              "        1.13333333],\n",
              "       [1.2       , 1.26666667, 1.        , 1.05      , 1.1       ,\n",
              "        1.15      ]])"
            ]
          },
          "metadata": {},
          "execution_count": 38
        }
      ]
    },
    {
      "cell_type": "code",
      "source": [
        "np.all(y > 0)"
      ],
      "metadata": {
        "colab": {
          "base_uri": "https://localhost:8080/"
        },
        "id": "eFfI2ilMMJBA",
        "outputId": "d035978d-5419-48eb-c1f3-09711c6a2c5e"
      },
      "execution_count": 39,
      "outputs": [
        {
          "output_type": "execute_result",
          "data": {
            "text/plain": [
              "np.False_"
            ]
          },
          "metadata": {},
          "execution_count": 39
        }
      ]
    },
    {
      "cell_type": "code",
      "source": [
        "np.any(np.isnan(y))"
      ],
      "metadata": {
        "colab": {
          "base_uri": "https://localhost:8080/"
        },
        "id": "a9TI4TtUNOxL",
        "outputId": "86854ca1-9b2d-4b5e-f6d5-6e428e80f494"
      },
      "execution_count": 43,
      "outputs": [
        {
          "output_type": "execute_result",
          "data": {
            "text/plain": [
              "np.True_"
            ]
          },
          "metadata": {},
          "execution_count": 43
        }
      ]
    },
    {
      "cell_type": "code",
      "source": [
        "print(y>0)"
      ],
      "metadata": {
        "colab": {
          "base_uri": "https://localhost:8080/"
        },
        "id": "e0e7U1hWNSqU",
        "outputId": "23f0ddd4-d9bc-4538-b6f6-df369adfd695"
      },
      "execution_count": 41,
      "outputs": [
        {
          "output_type": "stream",
          "name": "stdout",
          "text": [
            "[[False  True  True  True  True  True]\n",
            " [ True  True  True  True  True  True]\n",
            " [ True  True  True  True  True  True]\n",
            " [ True  True  True  True  True  True]]\n"
          ]
        }
      ]
    },
    {
      "cell_type": "code",
      "source": [
        "np.isinf(y)"
      ],
      "metadata": {
        "colab": {
          "base_uri": "https://localhost:8080/"
        },
        "id": "ptrpGF8bNXE3",
        "outputId": "c186233c-4471-4628-8803-2162032deae3"
      },
      "execution_count": 44,
      "outputs": [
        {
          "output_type": "execute_result",
          "data": {
            "text/plain": [
              "array([[False,  True,  True,  True,  True, False],\n",
              "       [False, False, False, False, False, False],\n",
              "       [False, False, False, False, False, False],\n",
              "       [False, False, False, False, False, False]])"
            ]
          },
          "metadata": {},
          "execution_count": 44
        }
      ]
    },
    {
      "cell_type": "code",
      "source": [
        "np.any(np.isinf(y))"
      ],
      "metadata": {
        "colab": {
          "base_uri": "https://localhost:8080/"
        },
        "id": "4K55ZUl6ODF0",
        "outputId": "106cc83a-aa25-4899-fe11-050166b0cbe6"
      },
      "execution_count": 45,
      "outputs": [
        {
          "output_type": "execute_result",
          "data": {
            "text/plain": [
              "np.True_"
            ]
          },
          "metadata": {},
          "execution_count": 45
        }
      ]
    },
    {
      "cell_type": "markdown",
      "source": [
        "example 3.9"
      ],
      "metadata": {
        "id": "iR4daQw7PI_z"
      }
    },
    {
      "cell_type": "code",
      "source": [
        "x = np.array([\n",
        "    [6, 6, 3, 9],\n",
        "    [0, 5, 2, 0],\n",
        "    [2, 1, 4, 8]\n",
        "])"
      ],
      "metadata": {
        "id": "XGo0cv3FOKc-"
      },
      "execution_count": 46,
      "outputs": []
    },
    {
      "cell_type": "code",
      "source": [
        "minimum = np.min(x)\n",
        "print(minimum)\n",
        "maximum = np.max(x)\n",
        "print(maximum)\n",
        "mean = np.mean(x)\n",
        "print(mean)"
      ],
      "metadata": {
        "id": "OzpY1tIsPvIO"
      },
      "execution_count": null,
      "outputs": []
    }
  ]
}
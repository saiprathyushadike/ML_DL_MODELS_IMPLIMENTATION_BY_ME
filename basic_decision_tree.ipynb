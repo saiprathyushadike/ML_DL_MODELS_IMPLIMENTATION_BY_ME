{
  "nbformat": 4,
  "nbformat_minor": 0,
  "metadata": {
    "colab": {
      "provenance": [],
      "authorship_tag": "ABX9TyNE1wjx95yqV9cCIeoTunTj"
    },
    "kernelspec": {
      "name": "python3",
      "display_name": "Python 3"
    },
    "language_info": {
      "name": "python"
    }
  },
  "cells": [
    {
      "cell_type": "code",
      "metadata": {
        "id": "67c4771d"
      },
      "source": [
        "def basic_decision_tree(data, features, target_feature):\n",
        "\n",
        "    # Base case: If all data points have the same target value, return that value\n",
        "    target_values = [d[target_feature] for d in data]\n",
        "    if len(set(target_values)) == 1:\n",
        "        return target_values[0]\n",
        "\n",
        "    # Base case: If there are no features left to split on, return the majority class\n",
        "    if not features:\n",
        "        from collections import Counter\n",
        "        most_common = Counter(target_values).most_common(1)[0][0]\n",
        "        return most_common\n",
        "\n",
        "    # Find the best feature to split on (in this basic example, just pick the first feature)\n",
        "    best_feature = features[0]\n",
        "\n",
        "    # Build the tree\n",
        "    tree = {best_feature: {}}\n",
        "    remaining_features = features[1:]\n",
        "\n",
        "    # Get unique values for the best feature\n",
        "    feature_values = set([d[best_feature] for d in data])\n",
        "\n",
        "    for value in feature_values:\n",
        "        subset_data = [d for d in data if d[best_feature] == value]\n",
        "        if not subset_data:\n",
        "            # If a subset is empty, return the majority class of the original data\n",
        "            from collections import Counter\n",
        "            most_common = Counter(target_values).most_common(1)[0][0]\n",
        "            tree[best_feature][value] = most_common\n",
        "        else:\n",
        "            tree[best_feature][value] = basic_decision_tree(subset_data, remaining_features, target_feature)\n",
        "\n",
        "    return tree\n",
        "\n"
      ],
      "execution_count": 1,
      "outputs": []
    }
  ]
}
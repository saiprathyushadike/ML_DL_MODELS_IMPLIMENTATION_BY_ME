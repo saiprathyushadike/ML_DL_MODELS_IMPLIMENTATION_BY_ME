{
  "nbformat": 4,
  "nbformat_minor": 0,
  "metadata": {
    "colab": {
      "provenance": [],
      "authorship_tag": "ABX9TyPQ79LQODy8ATR/5Sg5mOc3"
    },
    "kernelspec": {
      "name": "python3",
      "display_name": "Python 3"
    },
    "language_info": {
      "name": "python"
    }
  },
  "cells": [
    {
      "cell_type": "code",
      "execution_count": null,
      "metadata": {
        "id": "7Wc6evjgQ5YJ"
      },
      "outputs": [],
      "source": []
    },
    {
      "cell_type": "code",
      "metadata": {
        "id": "3e368de9"
      },
      "source": [
        "import numpy as np\n",
        "import matplotlib.pyplot as plt\n",
        "\n",
        "def polynomial_regression(x, y, degree):\n",
        "  \"\"\"\n",
        "  Performs polynomial regression on the given data.\n",
        "\n",
        "  Args:\n",
        "    x: A numpy array of the independent variable.\n",
        "    y: A numpy array of the dependent variable.\n",
        "    degree: The degree of the polynomial to fit.\n",
        "\n",
        "  Returns:\n",
        "    A numpy array of the polynomial coefficients (highest power first).\n",
        "    A numpy array of the predicted y values.\n",
        "    A matplotlib figure with the original data and the fitted polynomial.\n",
        "  \"\"\"\n",
        "  # Fit the polynomial\n",
        "  coefficients = np.polyfit(x, y, degree)\n",
        "\n",
        "  # Generate predicted values\n",
        "  poly = np.poly1d(coefficients)\n",
        "  y_pred = poly(x)\n",
        "\n",
        "  # Create the plot\n",
        "  fig, ax = plt.subplots()\n",
        "  ax.scatter(x, y, label='Original Data')\n",
        "  ax.plot(x, y_pred, color='red', label=f'Polynomial Fit (degree {degree})')\n",
        "  ax.set_xlabel('x')\n",
        "  ax.set_ylabel('y')\n",
        "  ax.set_title('Polynomial Regression')\n",
        "  ax.legend()\n",
        "\n",
        "  return coefficients, y_pred, fig\n",
        "\n"
      ],
      "execution_count": 1,
      "outputs": []
    }
  ]
}
{
  "nbformat": 4,
  "nbformat_minor": 0,
  "metadata": {
    "colab": {
      "provenance": [],
      "authorship_tag": "ABX9TyM2lbaJDIGpvIMW7TD+Ry96"
    },
    "kernelspec": {
      "name": "python3",
      "display_name": "Python 3"
    },
    "language_info": {
      "name": "python"
    }
  },
  "cells": [
    {
      "cell_type": "code",
      "metadata": {
        "id": "6d049b4b"
      },
      "source": [
        "import tensorflow as tf\n",
        "from tensorflow.keras.layers import Conv2D, MaxPooling2D, Flatten, Dense, Dropout\n",
        "\n",
        "def build_basic_cnn(input_shape, num_classes):\n",
        "  \"\"\"Builds a basic Convolutional Neural Network (CNN) model.\n",
        "\n",
        "  Args:\n",
        "    input_shape: Tuple representing the shape of the input images (height, width, channels).\n",
        "    num_classes: Integer representing the number of output classes.\n",
        "\n",
        "  Returns:\n",
        "    A TensorFlow Keras Sequential model.\n",
        "  \"\"\"\n",
        "  model = tf.keras.Sequential([\n",
        "      Conv2D(32, kernel_size=(3, 3), activation='relu', input_shape=input_shape),\n",
        "      MaxPooling2D(pool_size=(2, 2)),\n",
        "      Conv2D(64, kernel_size=(3, 3), activation='relu'),\n",
        "      MaxPooling2D(pool_size=(2, 2)),\n",
        "      Flatten(),\n",
        "      Dense(128, activation='relu'),\n",
        "      Dropout(0.5),\n",
        "      Dense(num_classes, activation='softmax')\n",
        "  ])\n",
        "  return model\n"
      ],
      "execution_count": 2,
      "outputs": []
    }
  ]
}
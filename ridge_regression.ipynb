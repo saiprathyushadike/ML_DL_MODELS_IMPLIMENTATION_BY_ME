{
  "nbformat": 4,
  "nbformat_minor": 0,
  "metadata": {
    "colab": {
      "provenance": [],
      "authorship_tag": "ABX9TyNfzjWftM3Jx1Z7bz6eGNZD"
    },
    "kernelspec": {
      "name": "python3",
      "display_name": "Python 3"
    },
    "language_info": {
      "name": "python"
    }
  },
  "cells": [
    {
      "cell_type": "code",
      "execution_count": null,
      "metadata": {
        "id": "g64P7q1xXTr9"
      },
      "outputs": [],
      "source": []
    },
    {
      "cell_type": "code",
      "metadata": {
        "id": "0c1b9ab2"
      },
      "source": [
        "import numpy as np\n",
        "\n",
        "def ridge_regression_from_scratch(X, y, alpha=1.0):\n",
        "  \"\"\"\n",
        "  Performs Ridge Regression without using scikit-learn.\n",
        "\n",
        "  Args:\n",
        "    X: Training data features (numpy array).\n",
        "    y: Training data target (numpy array).\n",
        "    alpha: Regularization strength (must be a non-negative float).\n",
        "\n",
        "  Returns:\n",
        "    A numpy array of the learned coefficients.\n",
        "  \"\"\"\n",
        "  # Add a column of ones to X for the intercept term\n",
        "  X_b = np.c_[np.ones((X.shape[0], 1)), X]\n",
        "\n",
        "  # Calculate the coefficients using the closed-form solution\n",
        "  # theta = (X_b.T * X_b + alpha * I)^-1 * X_b.T * y\n",
        "  identity_matrix = np.eye(X_b.shape[1])\n",
        "  identity_matrix[0, 0] = 0  # Do not regularize the intercept term\n",
        "  theta = np.linalg.inv(X_b.T.dot(X_b) + alpha * identity_matrix).dot(X_b.T).dot(y)\n",
        "\n",
        "  return theta"
      ],
      "execution_count": 1,
      "outputs": []
    }
  ]
}